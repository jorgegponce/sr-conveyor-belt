{
 "cells": [
  {
   "cell_type": "code",
   "execution_count": 1,
   "id": "2c32b0fd",
   "metadata": {},
   "outputs": [],
   "source": [
    "from sympy import *\n",
    "init_printing()"
   ]
  },
  {
   "cell_type": "code",
   "execution_count": 2,
   "id": "a7b7565a",
   "metadata": {},
   "outputs": [],
   "source": [
    "# Define symbols\n",
    "t, T, L, gamma = symbols('t T L gamma', positive=True)\n",
    "\n",
    "# Define x(t)\n",
    "x = L * (\n",
    "    (15 - 8*gamma)*(t/T)**2 +\n",
    "    (-50 + 32*gamma)*(t/T)**3 +\n",
    "    (60 - 40*gamma)*(t/T)**4 +\n",
    "    (-24 + 16*gamma)*(t/T)**5\n",
    ")\n",
    "\n",
    "# Compute acceleration: second derivative of x(t)\n",
    "a = diff(x, t, 2)\n",
    "a = simplify(a)\n"
   ]
  },
  {
   "cell_type": "code",
   "execution_count": 3,
   "id": "49385384",
   "metadata": {},
   "outputs": [],
   "source": [
    "jerk = diff(a, t)\n",
    "jerk = simplify(jerk)"
   ]
  },
  {
   "cell_type": "code",
   "execution_count": 4,
   "id": "d7e1e553",
   "metadata": {},
   "outputs": [],
   "source": [
    "critical_times = solve(jerk, t)"
   ]
  },
  {
   "cell_type": "code",
   "execution_count": 5,
   "id": "210a17f3",
   "metadata": {},
   "outputs": [
    {
     "data": {
      "image/png": "[encoded data removed]",
      "text/latex": [
       "$\\displaystyle \\left[ \\frac{T \\left(20 \\gamma - \\sqrt{80 \\gamma^{2} - 220 \\gamma + 150} - 30\\right)}{20 \\left(2 \\gamma - 3\\right)}, \\  \\frac{T \\left(20 \\gamma + \\sqrt{80 \\gamma^{2} - 220 \\gamma + 150} - 30\\right)}{20 \\left(2 \\gamma - 3\\right)}\\right]$"
      ],
      "text/plain": [
       "⎡  ⎛          _____________________     ⎞    ⎛          _____________________  ↪\n",
       "⎢  ⎜         ╱     2                    ⎟    ⎜         ╱     2                 ↪\n",
       "⎢T⋅⎝20⋅γ - ╲╱  80⋅γ  - 220⋅γ + 150  - 30⎠  T⋅⎝20⋅γ + ╲╱  80⋅γ  - 220⋅γ + 150   ↪\n",
       "⎢────────────────────────────────────────, ─────────────────────────────────── ↪\n",
       "⎣              20⋅(2⋅γ - 3)                              20⋅(2⋅γ - 3)          ↪\n",
       "\n",
       "↪     ⎞⎤\n",
       "↪     ⎟⎥\n",
       "↪ - 30⎠⎥\n",
       "↪ ─────⎥\n",
       "↪      ⎦"
      ]
     },
     "execution_count": 5,
     "metadata": {},
     "output_type": "execute_result"
    }
   ],
   "source": [
    "critical_times"
   ]
  },
  {
   "cell_type": "code",
   "execution_count": 19,
   "id": "627b0859",
   "metadata": {},
   "outputs": [
    {
     "data": {
      "image/png": "[encoded data removed]",
      "text/latex": [
       "$\\displaystyle 0.211324865405187 T$"
      ],
      "text/plain": [
       "0.211324865405187⋅T"
      ]
     },
     "execution_count": 19,
     "metadata": {},
     "output_type": "execute_result"
    }
   ],
   "source": [
    "critical_times[0].subs(gamma, 1.875)\n"
   ]
  },
  {
   "cell_type": "code",
   "execution_count": 20,
   "id": "ce25e14a",
   "metadata": {},
   "outputs": [
    {
     "data": {
      "image/png": "[encoded data removed]",
      "text/latex": [
       "$\\displaystyle 0.788675134594813 T$"
      ],
      "text/plain": [
       "0.788675134594813⋅T"
      ]
     },
     "execution_count": 20,
     "metadata": {},
     "output_type": "execute_result"
    }
   ],
   "source": [
    "critical_times[1].subs(gamma, 1.875)"
   ]
  },
  {
   "cell_type": "code",
   "execution_count": 9,
   "id": "624642b7",
   "metadata": {},
   "outputs": [],
   "source": [
    "a_at_max = [a.subs(t, critical_times[0]).simplify(), a.subs(t, critical_times[1]).simplify()]"
   ]
  },
  {
   "cell_type": "code",
   "execution_count": 12,
   "id": "5fc33a19",
   "metadata": {},
   "outputs": [
    {
     "data": {
      "image/png": "[encoded data removed]",
      "text/latex": [
       "$\\displaystyle \\frac{5.0 L}{T^{2}}$"
      ],
      "text/plain": [
       "5.0⋅L\n",
       "─────\n",
       "  2  \n",
       " T   "
      ]
     },
     "execution_count": 12,
     "metadata": {},
     "output_type": "execute_result"
    }
   ],
   "source": [
    "a_at_max[0].subs(gamma, 1.5625)"
   ]
  },
  {
   "cell_type": "code",
   "execution_count": 13,
   "id": "59a1cc10",
   "metadata": {},
   "outputs": [
    {
     "data": {
      "image/png": "[encoded data removed]",
      "text/latex": [
       "$\\displaystyle - \\frac{5.0 L}{T^{2}}$"
      ],
      "text/plain": [
       "-5.0⋅L \n",
       "───────\n",
       "   2   \n",
       "  T    "
      ]
     },
     "execution_count": 13,
     "metadata": {},
     "output_type": "execute_result"
    }
   ],
   "source": [
    "a_at_max[1].subs(gamma, 1.5625)"
   ]
  },
  {
   "cell_type": "code",
   "execution_count": 15,
   "id": "137bfc0d",
   "metadata": {},
   "outputs": [
    {
     "data": {
      "image/png": "[encoded data removed]",
      "text/latex": [
       "$\\displaystyle \\frac{5.0 L}{T^{2}}$"
      ],
      "text/plain": [
       "5.0⋅L\n",
       "─────\n",
       "  2  \n",
       " T   "
      ]
     },
     "execution_count": 15,
     "metadata": {},
     "output_type": "execute_result"
    }
   ],
   "source": [
    "a.subs(t,0).subs(gamma, 1.5625)"
   ]
  }
 ],
 "metadata": {
  "kernelspec": {
   "display_name": ".venv",
   "language": "python",
   "name": "python3"
  },
  "language_info": {
   "codemirror_mode": {
    "name": "ipython",
    "version": 3
   },
   "file_extension": ".py",
   "mimetype": "text/x-python",
   "name": "python",
   "nbconvert_exporter": "python",
   "pygments_lexer": "ipython3",
   "version": "3.11.3"
  }
 },
 "nbformat": 4,
 "nbformat_minor": 5
}
